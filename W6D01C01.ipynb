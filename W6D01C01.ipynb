{
  "cells": [
    {
      "cell_type": "markdown",
      "metadata": {
        "id": "view-in-github",
        "colab_type": "text"
      },
      "source": [
        "<a href=\"https://colab.research.google.com/github/diogovicentesantos/dotfiles/blob/master/W6D01C01.ipynb\" target=\"_parent\"><img src=\"https://colab.research.google.com/assets/colab-badge.svg\" alt=\"Open In Colab\"/></a>"
      ]
    },
    {
      "cell_type": "markdown",
      "metadata": {
        "id": "0jTyDeJsCUCE"
      },
      "source": [
        "# Fundamentals of Deep Learning -  Playground"
      ]
    },
    {
      "cell_type": "markdown",
      "metadata": {
        "id": "i6fCA1AACUCW"
      },
      "source": [
        "🧠 Welcome to this module of Deep Learning!\n",
        "\n",
        "🎯 In this challenge, our goal is two-fold:\n",
        "1. Get a visual representation of Neural Networks\n",
        "2. Build a better intuition of what Neural Networks are doing\n",
        "\n",
        "👉 We will use ***[Tensorflow Playground](https://playground.tensorflow.org/)***\n",
        "\n",
        "_(This first challenge does not require much coding_)"
      ]
    },
    {
      "cell_type": "markdown",
      "metadata": {
        "id": "M4XEWsNOCUCX"
      },
      "source": [
        "## Classification in Deep Learning"
      ]
    },
    {
      "cell_type": "markdown",
      "metadata": {
        "id": "Zf57Gt_nCUCY"
      },
      "source": [
        "### (1) The data"
      ]
    },
    {
      "cell_type": "markdown",
      "metadata": {
        "id": "GQ5NqW5OCUCY"
      },
      "source": [
        "❓ Let's go to the [Playground](https://playground.tensorflow.org/#activation=tanh&batchSize=10&dataset=spiral&regDataset=reg-plane&learningRate=0.03&regularizationRate=0&noise=0&networkShape=2&seed=0.23545&showTestData=false&discretize=false&percTrainData=70&x=true&y=true&xTimesY=false&xSquared=false&ySquared=false&cosX=false&sinX=false&cosY=false&sinY=false&collectStats=false&problem=classification&initZero=false&hideText=false&regularization_hide=true&showTestData_hide=false&stepButton_hide=false&activation_hide=false&problem_hide=false&batchSize_hide=true&dataset_hide=false&resetButton_hide=false&discretize_hide=false&playButton_hide=false&learningRate_hide=true&regularizationRate_hide=true&percTrainData_hide=false&numHiddenLayers_hide=false) and select the following type of data ❓\n",
        "\n",
        "- A classification problem\n",
        "- The circle dataset (<span style=\"color:blue\">blue dots</span> inside a circle of <span style=\"color:orange\">orange dots</span>)\n",
        "- Ratio of training to test data : $ 70 \\% $\n",
        "- No noise ($ = 0$)\n",
        "- Do not show test data (right panel)\n",
        "- Do not discretize the output\n",
        "- Activation function: ***ReLU***\n",
        "\n",
        "<details>\n",
        "    <summary><i> Why Relu? </i></summary>\n",
        "        \n",
        "💡 In general, try it by default. It appears to work better for many problems!\n",
        "    \n",
        "_Note: Playground only allows you to select **one** activation function that is used for **all** of the **hidden** layers_\n",
        "\n",
        "</details>"
      ]
    },
    {
      "cell_type": "markdown",
      "metadata": {
        "id": "iictYwo5CUCZ"
      },
      "source": [
        "### (2) The features"
      ]
    },
    {
      "cell_type": "markdown",
      "metadata": {
        "id": "dW2vDXHqCUCZ"
      },
      "source": [
        "❓ <u>Questions about the features</u> ❓\n",
        "\n",
        "1. Select only the features $X_1$ and $X_2$ (_unselect the other features if necessary_)\n",
        "2. If you were using the other variables such as $X_1^{2}$, $X_2^{2}$, $X_1 X_2$, $sin(X_1)$ and $sin(X_2)$, what type of classic Machine Learning operation does it correspond to?"
      ]
    },
    {
      "cell_type": "markdown",
      "metadata": {
        "tags": [
          "challengify"
        ],
        "id": "yMy8qrE6CUCZ"
      },
      "source": [
        "> it correspondes to feature engineering"
      ]
    },
    {
      "cell_type": "markdown",
      "metadata": {
        "id": "GZQl8PXlCUCa"
      },
      "source": [
        "<details>\n",
        "    <summary><i>Answer</i></summary>\n",
        "\n",
        "* It corresponds to some type of ***feature engineering*** where you transform them.\n",
        "    * <i>Examples: multiplication, sinus, square, ...</i>\n",
        "* Here, in this exercise but also tomorrow, we will only use the raw input features $X_1$ and $X_2$.\n",
        "</details>\n",
        "\n"
      ]
    },
    {
      "cell_type": "markdown",
      "metadata": {
        "id": "jtWtoPYlCUCa"
      },
      "source": [
        "### (3) Building and Fitting a Neural Network in ***Playground***"
      ]
    },
    {
      "cell_type": "markdown",
      "metadata": {
        "id": "4RZRCvS3CUCa"
      },
      "source": [
        "❓ <u>Questions about Neural Networks</u> ❓\n",
        "\n",
        "* 🧠 Build a model with the following architecture:\n",
        "    - three hidden layers\n",
        "    - 5 neurons on the first hidden layer\n",
        "    - 4 neurons on the second hidden layer\n",
        "    - 3 neurons on the last hidden layer\n",
        "    - In ***Playground***, the output layer is not represented:\n",
        "        - For such binary classification task, keep in mind that it will automatically be a dense layer with 1 neuron activated by the sigmoid function $ \\large \\phi(z) = \\frac{1}{1 + e^{-z}} $\n",
        "\n",
        "* 💪 ***Fit it and stop the iterations when the loss function has stabilized.***\n",
        "\n",
        "* 👀 Observe carefully:\n",
        "    - Look at the individual neurons and try to understand what each neuron has specialized for during the _.fit()_\n",
        "    - What do you think about the overall shape your results? Re-run the neural network with different activation functions to compare. Can you make it work with \"Linear\"?"
      ]
    },
    {
      "cell_type": "markdown",
      "metadata": {
        "id": "rEbGzh7FCUCb"
      },
      "source": [
        "<details>\n",
        "    <summary>Answer: some insights about the activation functions</summary>\n",
        "\n",
        "- Results may look like a hexagon because ReLu is piece-wise linear!\n",
        "- A non-linearly separable problem cannot be fitted with a linear activation such as **Linear**\n",
        "- Surprisingly, a piece-wise linear activation function such as **ReLu** (or **LeakyReLu**) fits this non-linearly separable problem well (even if that is not always true)\n",
        "- The `tanh` activation gives a \"smoother\" decision boundary\n",
        "- The **sigmoid** does **not** seem to work well here (i.e. it takes __many__ epochs before it can classify effectively)\n",
        "    \n",
        "🧑🏻‍🏫 Always start with ReLu, it's a safe bet 🧑🏻‍🏫!\n",
        "</details>\n",
        "\n"
      ]
    },
    {
      "cell_type": "markdown",
      "metadata": {
        "id": "i9vj8VUJCUCb"
      },
      "source": [
        "### (4) Building and Fitting a Neural Network in ***Tensorflow.Keras***"
      ]
    },
    {
      "cell_type": "markdown",
      "metadata": {
        "id": "BTWy9qDTCUCb"
      },
      "source": [
        "👇 We wrote the same model for you - at least the architecture - in Tensorflow's Keras"
      ]
    },
    {
      "cell_type": "code",
      "execution_count": 10,
      "metadata": {
        "id": "Yh1XrWKXCUCc"
      },
      "outputs": [],
      "source": [
        "from tensorflow.keras import models\n",
        "from tensorflow.keras import layers\n",
        "\n",
        "model = models.Sequential()\n",
        "\n",
        "model.add(layers.Dense(5, activation='relu', input_dim=2)) # 1st hidden layer with 5 neurons\n",
        "model.add(layers.Dense(4, activation='relu')) # 2nd hidden layer with 4 neurons\n",
        "model.add(layers.Dense(3, activation='relu')) # 3rd hidden layer with 3 neurons\n",
        "\n",
        "\n",
        "\n",
        "model.add(layers.Dense(1, activation='sigmoid')) # Output layer that outputs a probability of belonging\n",
        "                                                 # to the class of \"success\""
      ]
    },
    {
      "cell_type": "markdown",
      "metadata": {
        "id": "6mL7y01DCUCc"
      },
      "source": [
        "<details>\n",
        "    <summary><i>What to understand about the code of a Neural Network? </i>👆</summary>\n",
        "\n",
        "- <u>First Hidden Layer a.k.a ***Input Layer***</u>:\n",
        "    - Every datapoint that will be input to the neural network has two features $ X = \\begin{bmatrix}\n",
        "           X_{1} \\\\\n",
        "           X_{2} \\\\\n",
        "         \\end{bmatrix} $.\n",
        "    - You need to inform your Neural Network about the ***number of input features*** through the ***`input_dim` argument***\n",
        "    - A Neural Network tries to mimic the human brain. Here we would like to use 5 neurons to start analyzing each of these points.\n",
        "    \n",
        "    - Every datapoint goes through the first hidden layer which was built using 5 neurons $ layer_1 = \\begin{bmatrix}\n",
        "           a_{1} \\\\\n",
        "           a_{2} \\\\\n",
        "           a_{3} \\\\\n",
        "           a_{4} \\\\\n",
        "           a_{5} \\\\           \n",
        "         \\end{bmatrix} $\n",
        "    \n",
        " - <u>Second Hidden Layer</u>:\n",
        "         \n",
        "    - What if we want to ***make the information flow*** through a second hidden layer with 4 neurons? It is totally possible!\n",
        "    - These 4 neurons $ layer_2 = \\begin{bmatrix}\n",
        "           b_{1} \\\\\n",
        "           b_{2} \\\\\n",
        "           b_{3} \\\\\n",
        "           b_{4} \\\\\n",
        "         \\end{bmatrix} $ from the second layer will analyze the output from the 5 neurons in the first layer\n",
        "    \n",
        "- <u>Third Hidden Layer</u>:\n",
        "        - What if we want the information to **continue to flow** through a third hidden layer with 3 neurons? Again, totally possible!\n",
        "\n",
        "    - Every neuron's output from the second layer goes through the third hidden layer which was built using 3 neurons $ layer_3 = \\begin{bmatrix}\n",
        "           c_{1} \\\\\n",
        "           c_{2} \\\\\n",
        "           c_{3}\n",
        "         \\end{bmatrix} $\n",
        "         \n",
        "    - These 3 neurons analyze the outputs of the neurons in $ layer_2  $ !\n",
        "\n",
        "- <u>Predictive Layer</u>\n",
        "    - You are dealing with a binary classification task\n",
        "    - We could use two neurons to predict the probability of belonging to class A or class B...\n",
        "    - But one neuron predicting the probability of \"success\" is enough\n",
        "\n",
        "- <u>About activation functions</u>\n",
        "    - Despite its simplicity, the ***ReLU*** has proven to be very effective to add some non-linearity to the layers\n",
        "    - For the predictive layer, the best activation function to use for a classification task is the ***sigmoid*** function. That is something we've already discussed during Decision Science and Machine Learning.\n",
        "\n",
        "- <u>About the Sequential aspect of the Network</u>:\n",
        "    - The fact that you are defining a **Sequential** model has a consequence: each layer is aware of its input size based on the output size of the previous layer!\n",
        "    \n",
        "</details>"
      ]
    },
    {
      "cell_type": "markdown",
      "metadata": {
        "id": "01kSRTGzCUCd"
      },
      "source": [
        "❓ How many parameters are involved in this small Neural Network ❓"
      ]
    },
    {
      "cell_type": "code",
      "execution_count": 11,
      "metadata": {
        "tags": [
          "challengify"
        ],
        "id": "VKl57YPYCUCd",
        "colab": {
          "base_uri": "https://localhost:8080/"
        },
        "outputId": "c4355b42-1e9b-44a5-e4ae-e038594aad99"
      },
      "outputs": [
        {
          "output_type": "stream",
          "name": "stdout",
          "text": [
            "Model: \"sequential_3\"\n",
            "_________________________________________________________________\n",
            " Layer (type)                Output Shape              Param #   \n",
            "=================================================================\n",
            " dense_8 (Dense)             (None, 5)                 15        \n",
            "                                                                 \n",
            " dense_9 (Dense)             (None, 4)                 24        \n",
            "                                                                 \n",
            " dense_10 (Dense)            (None, 3)                 15        \n",
            "                                                                 \n",
            " dense_11 (Dense)            (None, 1)                 4         \n",
            "                                                                 \n",
            "=================================================================\n",
            "Total params: 58 (232.00 Byte)\n",
            "Trainable params: 58 (232.00 Byte)\n",
            "Non-trainable params: 0 (0.00 Byte)\n",
            "_________________________________________________________________\n"
          ]
        }
      ],
      "source": [
        "model.summary()"
      ]
    },
    {
      "cell_type": "markdown",
      "metadata": {
        "id": "0q2Ko03zCUCd"
      },
      "source": [
        "<details>\n",
        "    <summary><i>Hint</i></summary>\n",
        "\n",
        "✅ You should have 58 parameters\n",
        "    \n",
        "❌ If not, double-check your architecture    \n",
        "</details>"
      ]
    },
    {
      "cell_type": "markdown",
      "metadata": {
        "id": "nU0OpUoBCUCe"
      },
      "source": [
        "### (5) The XOR Dataset"
      ]
    },
    {
      "cell_type": "markdown",
      "metadata": {
        "id": "QfLrERk8CUCe"
      },
      "source": [
        "❓ <u>Playing with the XOR Dataset</u> ❓\n",
        "\n",
        "* On Playground:\n",
        "    - Change the dataset to the \"XOR - Exclusive Or\".\n",
        "    - Try to design a model with two hidden layers that has a very small **test loss**\n",
        "        - Note: you are free to choose the number of neurons per layer yourself.  \n",
        "        \n",
        "* Coding with Tensorflow/Keras:\n",
        "    - Once you have built your model on Playground, code it down below with the Tensorflow/Keras library"
      ]
    },
    {
      "cell_type": "code",
      "execution_count": 14,
      "metadata": {
        "id": "9IqWCgC-CUCe"
      },
      "outputs": [],
      "source": [
        "# Neural Network that can be well fitted to the XOR Dataset"
      ]
    },
    {
      "cell_type": "markdown",
      "source": [
        "#### Inititate the model"
      ],
      "metadata": {
        "id": "E8sqjquXL7vW"
      }
    },
    {
      "cell_type": "code",
      "source": [
        "model = models.Sequential()"
      ],
      "metadata": {
        "id": "wfGncG2nMCIu"
      },
      "execution_count": 15,
      "outputs": []
    },
    {
      "cell_type": "markdown",
      "source": [
        "#### Add the layers to the NN"
      ],
      "metadata": {
        "id": "zPC-p9lcMS3D"
      }
    },
    {
      "cell_type": "code",
      "source": [
        "model.add(layers.Dense(3, activation='relu', input_dim=2)) # 1st hidden layer with 3 neurons\n",
        "model.add(layers.Dense(2, activation='relu')) # 2nd hidden layer with 2 neurons"
      ],
      "metadata": {
        "id": "dOPy2W1yMEpV"
      },
      "execution_count": 16,
      "outputs": []
    },
    {
      "cell_type": "markdown",
      "source": [
        "#### Add output labels"
      ],
      "metadata": {
        "id": "lFPb0fi7Muzq"
      }
    },
    {
      "cell_type": "code",
      "source": [
        "\n",
        "model.add(layers.Dense(1,activation='sigmoid'))  # Output layer that outputs a probability of belonging\n",
        "                                                 # to the class of \"success\""
      ],
      "metadata": {
        "id": "BgsjJMtCMl2x"
      },
      "execution_count": 17,
      "outputs": []
    },
    {
      "cell_type": "code",
      "source": [
        "model.summary()"
      ],
      "metadata": {
        "colab": {
          "base_uri": "https://localhost:8080/"
        },
        "id": "zaWmUosTNAAR",
        "outputId": "847f7841-a284-420b-dfdf-02545fe293f8"
      },
      "execution_count": 18,
      "outputs": [
        {
          "output_type": "stream",
          "name": "stdout",
          "text": [
            "Model: \"sequential_5\"\n",
            "_________________________________________________________________\n",
            " Layer (type)                Output Shape              Param #   \n",
            "=================================================================\n",
            " dense_12 (Dense)            (None, 3)                 9         \n",
            "                                                                 \n",
            " dense_13 (Dense)            (None, 2)                 8         \n",
            "                                                                 \n",
            " dense_14 (Dense)            (None, 1)                 3         \n",
            "                                                                 \n",
            "=================================================================\n",
            "Total params: 20 (80.00 Byte)\n",
            "Trainable params: 20 (80.00 Byte)\n",
            "Non-trainable params: 0 (0.00 Byte)\n",
            "_________________________________________________________________\n"
          ]
        }
      ]
    },
    {
      "cell_type": "markdown",
      "metadata": {
        "id": "yvgx_DZ5CUCe"
      },
      "source": [
        "### (6) The Spiral Dataset"
      ]
    },
    {
      "cell_type": "markdown",
      "metadata": {
        "id": "LItD8wqLCUCe"
      },
      "source": [
        "❓ <u>Playing with the Spiral Dataset</u> ❓\n",
        "\n",
        "* On Playground:\n",
        "    - Change the dataset to the \"Spiral\".\n",
        "    - Try to design a model with three hidden layers that has a very small **test loss**\n",
        "        - Note: you are free to choose the number of neurons per layer yourself.  \n",
        "        \n",
        "* Coding with Tensorflow/Keras:\n",
        "    - Once you have built your model on Playground, code it down  below with the Tensorflow/Keras library"
      ]
    },
    {
      "cell_type": "code",
      "execution_count": null,
      "metadata": {
        "id": "mfiofvkUCUCf"
      },
      "outputs": [],
      "source": [
        "# Neural Network that can be well fitted to the Spiral Dataset\n",
        "\n",
        "pass  # YOUR CODE HERE"
      ]
    },
    {
      "cell_type": "markdown",
      "source": [
        "#### Inititate the model"
      ],
      "metadata": {
        "id": "jDVP2T45NM-u"
      }
    },
    {
      "cell_type": "code",
      "source": [
        "model = models.Sequential()"
      ],
      "metadata": {
        "id": "rHpDylZANM_J"
      },
      "execution_count": null,
      "outputs": []
    },
    {
      "cell_type": "markdown",
      "source": [
        "#### Add the layers to the NN"
      ],
      "metadata": {
        "id": "TStT7_iwNM_K"
      }
    },
    {
      "cell_type": "code",
      "source": [
        "model.add(layers.Dense(5, activation='relu', input_dim=4)) # 1st hidden layer with 3 neurons\n",
        "model.add(layers.Dense(5, activation='relu')) # 2nd hidden layer with 2 neurons"
      ],
      "metadata": {
        "id": "PsRp0YLKNM_L"
      },
      "execution_count": 19,
      "outputs": []
    },
    {
      "cell_type": "markdown",
      "source": [
        "#### Add output labels"
      ],
      "metadata": {
        "id": "ix1vxOMhNM_L"
      }
    },
    {
      "cell_type": "code",
      "source": [
        "\n",
        "model.add(layers.Dense(1,activation='sigmoid'))  # Output layer that outputs a probability of belonging\n",
        "                                                 # to the class of \"success\""
      ],
      "metadata": {
        "id": "4I08WEgGNM_L"
      },
      "execution_count": 20,
      "outputs": []
    },
    {
      "cell_type": "code",
      "source": [
        "model.summary()"
      ],
      "metadata": {
        "colab": {
          "base_uri": "https://localhost:8080/"
        },
        "outputId": "ef5b2265-7d7d-43ac-f8ca-6745a00045d5",
        "id": "ul-B0An5NM_M"
      },
      "execution_count": 21,
      "outputs": [
        {
          "output_type": "stream",
          "name": "stdout",
          "text": [
            "Model: \"sequential_5\"\n",
            "_________________________________________________________________\n",
            " Layer (type)                Output Shape              Param #   \n",
            "=================================================================\n",
            " dense_12 (Dense)            (None, 3)                 9         \n",
            "                                                                 \n",
            " dense_13 (Dense)            (None, 2)                 8         \n",
            "                                                                 \n",
            " dense_14 (Dense)            (None, 1)                 3         \n",
            "                                                                 \n",
            " dense_15 (Dense)            (None, 5)                 10        \n",
            "                                                                 \n",
            " dense_16 (Dense)            (None, 5)                 30        \n",
            "                                                                 \n",
            " dense_17 (Dense)            (None, 1)                 6         \n",
            "                                                                 \n",
            "=================================================================\n",
            "Total params: 66 (264.00 Byte)\n",
            "Trainable params: 66 (264.00 Byte)\n",
            "Non-trainable params: 0 (0.00 Byte)\n",
            "_________________________________________________________________\n"
          ]
        }
      ]
    },
    {
      "cell_type": "markdown",
      "metadata": {
        "id": "nsH0II73CUCf"
      },
      "source": [
        "### (7) How Deep should a Neural Network be ?"
      ]
    },
    {
      "cell_type": "markdown",
      "metadata": {
        "id": "Q3AS20MjCUCf"
      },
      "source": [
        "👀 If you compare the number of parameters needed to fit the Spiral Dataset vs. the XOR dataset, the former requires many more weights....\n",
        "\n",
        "😃 Actually, if your models are deep enough, you could potentially fit pretty much any pattern...\n",
        "\n",
        "---\n",
        "\n",
        "<details>\n",
        "    <summary><i>Should I create Very Deep Neural Networks? </i></summary>\n",
        "        \n",
        "<u>Examples:</u>\n",
        "    \n",
        "* Think about a human being. The more this person spends time coding in Python, the better he/she will get better at it!\n",
        "    \n",
        "* Think about a student. The more this person studies, the better he/she will pass exams. But sometimes students can study \"too much\" about a topic and forget about the global picture of a course....\n",
        "    \n",
        "<u>Lessons</u>\n",
        "    \n",
        "🧠 For Deep Learning Models, the more layers they have, the more opportunities they will have to learn the patterns in the data...\n",
        "\n",
        "❗️ The problem is about avoiding **overfitting** ❗️\n",
        "    \n",
        "☠️ Add a good deal of noise and you _may_ see that your model will have learned \"too much\" about this noise.\n",
        "  \n",
        "    \n",
        "📆 The next lecture **Deep Learning > Optimizers, Loss, & Fitting** is dedicated to helping you understand which techniques we can use to prevent Deep Learning models from overfitting.\n",
        "\n",
        "</details>\n",
        "\n",
        "---\n",
        "\n",
        "<details>\n",
        "    <summary><i>A picture of overfitting in Playground</i></summary>\n",
        "    \n",
        "<img src='https://wagon-public-datasets.s3.amazonaws.com/data-science-images/DL/playground-overfitting.png' width=700 style='margin:auto'>\n",
        "</details>\n",
        "\n",
        "---"
      ]
    },
    {
      "cell_type": "markdown",
      "metadata": {
        "id": "GqUKGfl-CUCf"
      },
      "source": [
        "## Regression in Deep Learning"
      ]
    },
    {
      "cell_type": "markdown",
      "metadata": {
        "id": "Qw8kLyLICUCg"
      },
      "source": [
        "<u>Let's try to complete a Regression Task using Deep Learning</u>\n",
        "\n",
        "\n",
        "This time, the last layer will no longer look like:  \n",
        "```python\n",
        "model.add(layers.Dense(1, activation='sigmoid'))\n",
        "```\n",
        "\n",
        "but instead  :\n",
        "```python\n",
        "model.add(layers.Dense(1, activation='linear'))\n",
        "```\n",
        "\n",
        "This means that the output of this network is no longer between $0$ and $1$ (probability) but between $ -\\infty$ and $+ \\infty$."
      ]
    },
    {
      "cell_type": "markdown",
      "metadata": {
        "id": "my1t91qcCUCg"
      },
      "source": [
        "❓ <u>Playing with the Regression Dataset</u> ❓\n",
        "\n",
        "* On Playground:\n",
        "    - Change the dataset to the \"Regression\".\n",
        "    - Try to design a model that has a very small **test loss**\n",
        "        - Note: you are free to choose both the number of layers and the number of neurons per layer yourself\n",
        "        \n",
        "* Coding with Tensorflow/Keras:\n",
        "    - Once you have built your model on Playground, code it down  below with the Tensorflow/Keras library"
      ]
    },
    {
      "cell_type": "markdown",
      "source": [
        "#### Inititate the model"
      ],
      "metadata": {
        "id": "j4wZLe-XO5yw"
      }
    },
    {
      "cell_type": "code",
      "source": [
        "model = models.Sequential()"
      ],
      "metadata": {
        "id": "G0fL5I6MO5yx"
      },
      "execution_count": 22,
      "outputs": []
    },
    {
      "cell_type": "markdown",
      "source": [
        "#### Add the layers to the NN"
      ],
      "metadata": {
        "id": "urwHn5lhO5yy"
      }
    },
    {
      "cell_type": "code",
      "source": [
        "model.add(layers.Dense(5, activation='relu', input_dim=4)) # 1st hidden layer with 3 neurons\n",
        "model.add(layers.Dense(5, activation='relu')) # 2nd hidden layer with 2 neurons"
      ],
      "metadata": {
        "id": "9uueToAnO5yy"
      },
      "execution_count": 23,
      "outputs": []
    },
    {
      "cell_type": "markdown",
      "source": [
        "#### Add output labels"
      ],
      "metadata": {
        "id": "t_IERDktO5yz"
      }
    },
    {
      "cell_type": "code",
      "source": [
        "model.add(layers.Dense(2,activation='linear'))"
      ],
      "metadata": {
        "id": "kWkUO5irO5yz"
      },
      "execution_count": 30,
      "outputs": []
    },
    {
      "cell_type": "code",
      "source": [
        "model.summary()"
      ],
      "metadata": {
        "colab": {
          "base_uri": "https://localhost:8080/"
        },
        "outputId": "74a4eb16-26cd-4991-9fe9-2713d52a4857",
        "id": "j9J-kuLEO5y0"
      },
      "execution_count": 31,
      "outputs": [
        {
          "output_type": "stream",
          "name": "stdout",
          "text": [
            "Model: \"sequential_6\"\n",
            "_________________________________________________________________\n",
            " Layer (type)                Output Shape              Param #   \n",
            "=================================================================\n",
            " dense_18 (Dense)            (None, 5)                 25        \n",
            "                                                                 \n",
            " dense_19 (Dense)            (None, 5)                 30        \n",
            "                                                                 \n",
            " dense_23 (Dense)            (None, 2)                 12        \n",
            "                                                                 \n",
            "=================================================================\n",
            "Total params: 67 (268.00 Byte)\n",
            "Trainable params: 67 (268.00 Byte)\n",
            "Non-trainable params: 0 (0.00 Byte)\n",
            "_________________________________________________________________\n"
          ]
        }
      ]
    },
    {
      "cell_type": "markdown",
      "metadata": {
        "id": "D5vtericCUCg"
      },
      "source": [
        "🏁 You are now ready to do the same things with Tensorflow's Keras directly!\n",
        "\n",
        "💪 This was a Warm-Up about Neural Networks / Deep Learning Models... (even if, admittedly, our networks in this challenge were not so \"deep\").\n",
        "\n",
        "\n",
        "💾 Don't forget to `git add/commit/push` your notebook...\n",
        "\n",
        "🚀 ... and move on to the next challenge!"
      ]
    },
    {
      "cell_type": "code",
      "source": [
        "!git add .\n",
        "!git commit -m'Completed TF exercise 1'\n",
        "!git push origin master"
      ],
      "metadata": {
        "colab": {
          "base_uri": "https://localhost:8080/"
        },
        "id": "WBYYIJibPBxd",
        "outputId": "31784e03-423f-4365-9bd0-bc4ac15c0f3a"
      },
      "execution_count": 27,
      "outputs": [
        {
          "output_type": "stream",
          "name": "stdout",
          "text": [
            "fatal: not a git repository (or any of the parent directories): .git\n",
            "fatal: not a git repository (or any of the parent directories): .git\n",
            "fatal: not a git repository (or any of the parent directories): .git\n"
          ]
        }
      ]
    },
    {
      "cell_type": "code",
      "source": [],
      "metadata": {
        "id": "nB2LLpl-PJRQ"
      },
      "execution_count": null,
      "outputs": []
    }
  ],
  "metadata": {
    "kernelspec": {
      "display_name": "Python 3 (ipykernel)",
      "language": "python",
      "name": "python3"
    },
    "language_info": {
      "codemirror_mode": {
        "name": "ipython",
        "version": 3
      },
      "file_extension": ".py",
      "mimetype": "text/x-python",
      "name": "python",
      "nbconvert_exporter": "python",
      "pygments_lexer": "ipython3",
      "version": "3.10.6"
    },
    "toc": {
      "base_numbering": 1,
      "nav_menu": {},
      "number_sections": true,
      "sideBar": true,
      "skip_h1_title": false,
      "title_cell": "Table of Contents",
      "title_sidebar": "Contents",
      "toc_cell": false,
      "toc_position": {},
      "toc_section_display": true,
      "toc_window_display": false
    },
    "colab": {
      "provenance": [],
      "toc_visible": true,
      "include_colab_link": true
    }
  },
  "nbformat": 4,
  "nbformat_minor": 0
}